{
  "nbformat": 4,
  "nbformat_minor": 0,
  "metadata": {
    "colab": {
      "provenance": [],
      "collapsed_sections": [],
      "authorship_tag": "ABX9TyNeKuvlJizD34hGiL9TB0F5",
      "include_colab_link": true
    },
    "kernelspec": {
      "name": "python3",
      "display_name": "Python 3"
    },
    "language_info": {
      "name": "python"
    }
  },
  "cells": [
    {
      "cell_type": "markdown",
      "metadata": {
        "id": "view-in-github",
        "colab_type": "text"
      },
      "source": [
        "<a href=\"https://colab.research.google.com/github/edmanabc/Avado-Python-Exercise2/blob/main/Python_workshop2.ipynb\" target=\"_parent\"><img src=\"https://colab.research.google.com/assets/colab-badge.svg\" alt=\"Open In Colab\"/></a>"
      ]
    },
    {
      "cell_type": "code",
      "execution_count": null,
      "metadata": {
        "id": "AUzprwBpAvu2"
      },
      "outputs": [],
      "source": []
    },
    {
      "cell_type": "code",
      "source": [
        "x=11\n",
        "if x%2==0:\n",
        "  print(\"This is an even number\")\n",
        "else:\n",
        "  print(\"This is not an event number\")\n"
      ],
      "metadata": {
        "colab": {
          "base_uri": "https://localhost:8080/"
        },
        "id": "a3s_WgvOAyzQ",
        "outputId": "45f0efbc-9d3e-48f7-8ec6-436bb605cd73"
      },
      "execution_count": null,
      "outputs": [
        {
          "output_type": "stream",
          "name": "stdout",
          "text": [
            "This is not an event number\n"
          ]
        }
      ]
    },
    {
      "cell_type": "markdown",
      "source": [
        ": or colon at the end of a line makes it a statement.\n",
        "one equal = sign means \"set the value of a to the same as b\"\n",
        "\n",
        "two equal == signs mean \"do a and b have the same value? True/False\"\n"
      ],
      "metadata": {
        "id": "xGwf-Yj-FLDE"
      }
    },
    {
      "cell_type": "code",
      "source": [
        "a=15\n",
        "b=12\n",
        "if a==b:\n",
        "  print(\"The two numbers are equal\")\n",
        "elif a>b:\n",
        "  print(\"The first number if greater than the second\")\n",
        "else:\n",
        "  print(\"The first number is smaller than the second\")"
      ],
      "metadata": {
        "colab": {
          "base_uri": "https://localhost:8080/"
        },
        "id": "7B2QplGrBQrg",
        "outputId": "84eed5c6-079c-4c0c-9538-d775a2f35229"
      },
      "execution_count": null,
      "outputs": [
        {
          "output_type": "stream",
          "name": "stdout",
          "text": [
            "The first number if greater than the second\n"
          ]
        }
      ]
    },
    {
      "cell_type": "markdown",
      "source": [
        "Google what elif is above. "
      ],
      "metadata": {
        "id": "oI-acGh-CHqe"
      }
    },
    {
      "cell_type": "markdown",
      "source": [
        "Come up with a code to check whether a number is positive, negative or 0"
      ],
      "metadata": {
        "id": "Gf9cUo5lCezk"
      }
    },
    {
      "cell_type": "code",
      "source": [
        "a=0.1\n",
        "if a>0:\n",
        "  print(\"The number is positive\")\n",
        "elif a<0:\n",
        "  print(\"The number is negative\")\n",
        "else:\n",
        "  print(\"The number is equal to zero\")"
      ],
      "metadata": {
        "colab": {
          "base_uri": "https://localhost:8080/"
        },
        "id": "Gxw9QcebCPeq",
        "outputId": "ebae182d-b964-4025-e3bd-5ef1dc91eaaa"
      },
      "execution_count": null,
      "outputs": [
        {
          "output_type": "stream",
          "name": "stdout",
          "text": [
            "The number is positive\n"
          ]
        }
      ]
    },
    {
      "cell_type": "code",
      "source": [
        "for i in range(0,12):\n",
        "  print(\"The iteration is {}\".format(i))\n",
        "print(\"The end\")"
      ],
      "metadata": {
        "colab": {
          "base_uri": "https://localhost:8080/"
        },
        "id": "GiKC7dvFEo7f",
        "outputId": "7aace66b-bdf6-4809-e556-fc1d9e8564ed"
      },
      "execution_count": null,
      "outputs": [
        {
          "output_type": "stream",
          "name": "stdout",
          "text": [
            "The iteration is 0\n",
            "The iteration is 1\n",
            "The iteration is 2\n",
            "The iteration is 3\n",
            "The iteration is 4\n",
            "The iteration is 5\n",
            "The iteration is 6\n",
            "The iteration is 7\n",
            "The iteration is 8\n",
            "The iteration is 9\n",
            "The iteration is 10\n",
            "The iteration is 11\n",
            "The end\n"
          ]
        }
      ]
    },
    {
      "cell_type": "markdown",
      "source": [
        "I think this is full loop??\n",
        "\n",
        "The last value in the range is always ignored."
      ],
      "metadata": {
        "id": "X43jHR9_GDaH"
      }
    },
    {
      "cell_type": "code",
      "source": [
        "a=1\n",
        "while a<6:\n",
        "  print(a)\n",
        "  a=a+1\n",
        "print(\"The end!\")"
      ],
      "metadata": {
        "colab": {
          "base_uri": "https://localhost:8080/"
        },
        "id": "9t_0STHIG0Pe",
        "outputId": "4b06dd1c-196b-4efb-ee45-903e13b3e2d9"
      },
      "execution_count": null,
      "outputs": [
        {
          "output_type": "stream",
          "name": "stdout",
          "text": [
            "1\n",
            "2\n",
            "3\n",
            "4\n",
            "5\n",
            "The end!\n"
          ]
        }
      ]
    },
    {
      "cell_type": "code",
      "source": [
        "targetvalue=10\n",
        "iteration=0\n",
        "while iteration <targetvalue:\n",
        "  print(\"The iteration number is {}, which is less than the target value {}\".format(iteration, targetvalue))\n",
        "  iteration=iteration+1\n",
        "print(\"The end\")"
      ],
      "metadata": {
        "colab": {
          "base_uri": "https://localhost:8080/"
        },
        "id": "Q9YMJ9x3IhQK",
        "outputId": "ac7b8687-4ba9-4859-f7ff-659efba21884"
      },
      "execution_count": null,
      "outputs": [
        {
          "output_type": "stream",
          "name": "stdout",
          "text": [
            "The iteration number is 0, which is less than the target value 10\n",
            "The iteration number is 1, which is less than the target value 10\n",
            "The iteration number is 2, which is less than the target value 10\n",
            "The iteration number is 3, which is less than the target value 10\n",
            "The iteration number is 4, which is less than the target value 10\n",
            "The iteration number is 5, which is less than the target value 10\n",
            "The iteration number is 6, which is less than the target value 10\n",
            "The iteration number is 7, which is less than the target value 10\n",
            "The iteration number is 8, which is less than the target value 10\n",
            "The iteration number is 9, which is less than the target value 10\n",
            "The end\n"
          ]
        }
      ]
    },
    {
      "cell_type": "markdown",
      "source": [
        "No idea what the above is about!"
      ],
      "metadata": {
        "id": "S6ZCOJ_7J7zh"
      }
    },
    {
      "cell_type": "markdown",
      "source": [
        "Nested loops are below"
      ],
      "metadata": {
        "id": "p7huHqgyLXmN"
      }
    },
    {
      "cell_type": "code",
      "source": [
        "for i in range(1,6): #outer loop\n",
        "  for j in range(1,11): #inner loop\n",
        "    print(i*j)"
      ],
      "metadata": {
        "colab": {
          "base_uri": "https://localhost:8080/"
        },
        "id": "c7KxgXAHL1yK",
        "outputId": "0dc205ea-8b7a-4f84-c6d8-7b1a2e02d787"
      },
      "execution_count": null,
      "outputs": [
        {
          "output_type": "stream",
          "name": "stdout",
          "text": [
            "1\n",
            "2\n",
            "3\n",
            "4\n",
            "5\n",
            "6\n",
            "7\n",
            "8\n",
            "9\n",
            "10\n",
            "2\n",
            "4\n",
            "6\n",
            "8\n",
            "10\n",
            "12\n",
            "14\n",
            "16\n",
            "18\n",
            "20\n",
            "3\n",
            "6\n",
            "9\n",
            "12\n",
            "15\n",
            "18\n",
            "21\n",
            "24\n",
            "27\n",
            "30\n",
            "4\n",
            "8\n",
            "12\n",
            "16\n",
            "20\n",
            "24\n",
            "28\n",
            "32\n",
            "36\n",
            "40\n",
            "5\n",
            "10\n",
            "15\n",
            "20\n",
            "25\n",
            "30\n",
            "35\n",
            "40\n",
            "45\n",
            "50\n"
          ]
        }
      ]
    },
    {
      "cell_type": "code",
      "source": [
        "colours=[\"blue\", \"red\", \"yellow\"]\n",
        "cars=[\"BMW\", \"Mercedes\", \"Audi\"]\n",
        "for colour in colours: #outer loop\n",
        "  for car in cars: #inner loop\n",
        "    print(colour, car)"
      ],
      "metadata": {
        "colab": {
          "base_uri": "https://localhost:8080/"
        },
        "id": "fW32d09cNUWK",
        "outputId": "2ea4b359-c04e-428a-d362-189778b6ee48"
      },
      "execution_count": null,
      "outputs": [
        {
          "output_type": "stream",
          "name": "stdout",
          "text": [
            "blue BMW\n",
            "blue Mercedes\n",
            "blue Audi\n",
            "red BMW\n",
            "red Mercedes\n",
            "red Audi\n",
            "yellow BMW\n",
            "yellow Mercedes\n",
            "yellow Audi\n"
          ]
        }
      ]
    },
    {
      "cell_type": "markdown",
      "source": [
        "Break statement below"
      ],
      "metadata": {
        "id": "DO__OdqTPYOL"
      }
    },
    {
      "cell_type": "code",
      "source": [
        "targetvalue=10\n",
        "iteration=0\n",
        "while iteration<targetvalue:\n",
        "  print(\"The iteration number is {}, which is less than the target value {}\".format(iteration, targetvalue))\n",
        "  if iteration==3:\n",
        "    print(\"Condition met\")\n",
        "    break\n",
        "  iteration=iteration+1"
      ],
      "metadata": {
        "colab": {
          "base_uri": "https://localhost:8080/"
        },
        "id": "Xt0Na-gyPbWy",
        "outputId": "51f505b9-09e0-41f6-9333-c745d79bef6f"
      },
      "execution_count": null,
      "outputs": [
        {
          "output_type": "stream",
          "name": "stdout",
          "text": [
            "The iteration number is 0, which is less than the target value 10\n",
            "The iteration number is 1, which is less than the target value 10\n",
            "The iteration number is 2, which is less than the target value 10\n",
            "The iteration number is 3, which is less than the target value 10\n",
            "Condition met\n"
          ]
        }
      ]
    },
    {
      "cell_type": "markdown",
      "source": [
        "Continue functions below"
      ],
      "metadata": {
        "id": "xR7NRQ1HUvXN"
      }
    },
    {
      "cell_type": "code",
      "source": [
        "targetv=5\n",
        "iteration=0\n",
        "while iteration<targetv:\n",
        "  iteration=iteration+1\n",
        "  if iteration==2:\n",
        "    continue\n",
        "  print(\"Iteration number is {}, which is less than the target value {}\".format(iteration,targetv))"
      ],
      "metadata": {
        "colab": {
          "base_uri": "https://localhost:8080/"
        },
        "id": "FMXeC-6mVM0S",
        "outputId": "ad7dffc6-8ed5-4b56-fd62-412016c96ee9"
      },
      "execution_count": null,
      "outputs": [
        {
          "output_type": "stream",
          "name": "stdout",
          "text": [
            "Iteration number is 1, which is less than the target value 5\n",
            "Iteration number is 3, which is less than the target value 5\n",
            "Iteration number is 4, which is less than the target value 5\n",
            "Iteration number is 5, which is less than the target value 5\n"
          ]
        }
      ]
    },
    {
      "cell_type": "code",
      "source": [
        "names =[\"Mercy\", \"Anis\", \"Chris\", \"Israel\"]\n",
        "for name in names:\n",
        "  if name==\"Chris\":\n",
        "    continue\n",
        "  print(name)"
      ],
      "metadata": {
        "colab": {
          "base_uri": "https://localhost:8080/"
        },
        "id": "SZ8_0BNlWo1D",
        "outputId": "96379c86-3d60-43b8-ded4-8360b0e6d7b0"
      },
      "execution_count": null,
      "outputs": [
        {
          "output_type": "stream",
          "name": "stdout",
          "text": [
            "Mercy\n",
            "Anis\n",
            "Israel\n"
          ]
        }
      ]
    },
    {
      "cell_type": "markdown",
      "source": [
        "Lists and Tuples allow for duplicates. Sets and Dictionaries do not allow duplicates."
      ],
      "metadata": {
        "id": "bTdZibg9Yljj"
      }
    },
    {
      "cell_type": "markdown",
      "source": [
        "Below is a list"
      ],
      "metadata": {
        "id": "Jmmf3Bh2ZaWj"
      }
    },
    {
      "cell_type": "code",
      "source": [
        "mylist=[\"Michael\", \"Sean\", \"Adam\"]\n",
        "mylist[0]=\"John\" #remember python positions begin at 0, so here Michael is being replaced at position 0.\n",
        "print(mylist)"
      ],
      "metadata": {
        "colab": {
          "base_uri": "https://localhost:8080/"
        },
        "id": "zoj_FM9MZZIj",
        "outputId": "793088aa-3ab9-44ec-ed4e-881018ad2da0"
      },
      "execution_count": null,
      "outputs": [
        {
          "output_type": "stream",
          "name": "stdout",
          "text": [
            "['John', 'Sean', 'Adam']\n"
          ]
        }
      ]
    },
    {
      "cell_type": "code",
      "source": [
        "mylist[0:2] #last position is never included"
      ],
      "metadata": {
        "colab": {
          "base_uri": "https://localhost:8080/"
        },
        "id": "l-YN6O7TZ9Om",
        "outputId": "f298aabb-fdd6-40c2-fe5d-c1a0be84e549"
      },
      "execution_count": null,
      "outputs": [
        {
          "output_type": "execute_result",
          "data": {
            "text/plain": [
              "['John', 'Sean']"
            ]
          },
          "metadata": {},
          "execution_count": 45
        }
      ]
    },
    {
      "cell_type": "code",
      "source": [
        "print(len(mylist)) #what is the length of mylist"
      ],
      "metadata": {
        "colab": {
          "base_uri": "https://localhost:8080/"
        },
        "id": "McYJ9-TBaPDT",
        "outputId": "504b3069-5049-47a0-acd0-ae983552b1b4"
      },
      "execution_count": null,
      "outputs": [
        {
          "output_type": "stream",
          "name": "stdout",
          "text": [
            "3\n"
          ]
        }
      ]
    },
    {
      "cell_type": "code",
      "source": [
        "print(type(mylist)) #what data type is mylist"
      ],
      "metadata": {
        "colab": {
          "base_uri": "https://localhost:8080/"
        },
        "id": "ynMAEomFaSO2",
        "outputId": "f754afab-7abf-44a0-b1ec-5fc476420b05"
      },
      "execution_count": null,
      "outputs": [
        {
          "output_type": "stream",
          "name": "stdout",
          "text": [
            "<class 'list'>\n"
          ]
        }
      ]
    },
    {
      "cell_type": "code",
      "source": [
        "mylist=[\"Michael\", \"Sean\", \"Adam\"]\n",
        "if \"Sean\" in mylist:\n",
        "  print(\"Yes the element is present\")"
      ],
      "metadata": {
        "colab": {
          "base_uri": "https://localhost:8080/"
        },
        "id": "9PT4YgI4a20-",
        "outputId": "258b0c4a-01e5-46b1-ee57-9b41500435d0"
      },
      "execution_count": null,
      "outputs": [
        {
          "output_type": "stream",
          "name": "stdout",
          "text": [
            "Yes the element is present\n"
          ]
        }
      ]
    },
    {
      "cell_type": "markdown",
      "source": [
        "Inserting an item in a specified position in a list below"
      ],
      "metadata": {
        "id": "LFmT_qnDbx5k"
      }
    },
    {
      "cell_type": "code",
      "source": [
        "mylist=[\"Michael\", \"Sean\", \"Adam\"]\n",
        "mylist.insert(0,\"Mercy\")\n",
        "print(mylist)"
      ],
      "metadata": {
        "colab": {
          "base_uri": "https://localhost:8080/"
        },
        "id": "MDuHtMKKbfJo",
        "outputId": "f11cb33e-a032-497b-d461-c590c2821d5b"
      },
      "execution_count": null,
      "outputs": [
        {
          "output_type": "stream",
          "name": "stdout",
          "text": [
            "['Mercy', 'Michael', 'Sean', 'Adam']\n"
          ]
        }
      ]
    },
    {
      "cell_type": "markdown",
      "source": [
        "Appending or adding an item to the end of a list below"
      ],
      "metadata": {
        "id": "vqBVi6q1b2Jq"
      }
    },
    {
      "cell_type": "code",
      "source": [
        "mylist.append(\"John\")\n",
        "print(mylist)"
      ],
      "metadata": {
        "colab": {
          "base_uri": "https://localhost:8080/"
        },
        "id": "EE1PY4tyb5D-",
        "outputId": "fb803eb4-30d7-41b3-ffac-b9504dbc8886"
      },
      "execution_count": null,
      "outputs": [
        {
          "output_type": "stream",
          "name": "stdout",
          "text": [
            "['Mercy', 'Michael', 'Sean', 'Adam', 'John']\n"
          ]
        }
      ]
    },
    {
      "cell_type": "markdown",
      "source": [
        "Combining lists to create a new lists below"
      ],
      "metadata": {
        "id": "AtqJmftAcUqS"
      }
    },
    {
      "cell_type": "code",
      "source": [
        "mylist1=[\"Michael\", \"Sean\", \"Adam\"]\n",
        "mylist2=[\"Zara\", \"Alex\"]\n",
        "mylist1.extend(mylist2)\n",
        "print(mylist1)"
      ],
      "metadata": {
        "colab": {
          "base_uri": "https://localhost:8080/"
        },
        "id": "azkD2syQcb6K",
        "outputId": "2b6a2e4c-2193-41ed-ce59-037c2e511327"
      },
      "execution_count": null,
      "outputs": [
        {
          "output_type": "stream",
          "name": "stdout",
          "text": [
            "['Michael', 'Sean', 'Adam', 'Zara', 'Alex']\n"
          ]
        }
      ]
    },
    {
      "cell_type": "code",
      "source": [
        "mylist3=[\"Halimo\", \"Farax\", \"Waalicas\"]\n",
        "mylist4=[\"Babatunde\", \"Fisayo\"]\n",
        "mylist4.extend(mylist3)\n",
        "print(mylist4)"
      ],
      "metadata": {
        "colab": {
          "base_uri": "https://localhost:8080/"
        },
        "id": "YYzSZO55dDXr",
        "outputId": "769dddf2-9fe3-4412-cfcb-b804f5a48d64"
      },
      "execution_count": null,
      "outputs": [
        {
          "output_type": "stream",
          "name": "stdout",
          "text": [
            "['Babatunde', 'Fisayo', 'Halimo', 'Farax', 'Waalicas']\n"
          ]
        }
      ]
    },
    {
      "cell_type": "markdown",
      "source": [
        "Removing items from lists"
      ],
      "metadata": {
        "id": "01wp4Mf7ddVJ"
      }
    },
    {
      "cell_type": "code",
      "source": [
        "mylist4.remove(\"Fisayo\")\n",
        "print(mylist4)"
      ],
      "metadata": {
        "colab": {
          "base_uri": "https://localhost:8080/"
        },
        "id": "F0RgTaUhdhRQ",
        "outputId": "98a6c611-8970-48c4-b27d-002883c5945f"
      },
      "execution_count": null,
      "outputs": [
        {
          "output_type": "stream",
          "name": "stdout",
          "text": [
            "['Babatunde', 'Halimo, Farax, Waalicas']\n"
          ]
        }
      ]
    },
    {
      "cell_type": "markdown",
      "source": [
        "Using pop without specifying a position removes the last value below"
      ],
      "metadata": {
        "id": "bKCVSRPkeENl"
      }
    },
    {
      "cell_type": "code",
      "source": [
        "mylist4.pop()\n",
        "print(mylist4)"
      ],
      "metadata": {
        "colab": {
          "base_uri": "https://localhost:8080/"
        },
        "id": "Xt0bPqp8eGz_",
        "outputId": "5472dd90-0d8d-47c6-83d1-87b9bda9d25d"
      },
      "execution_count": null,
      "outputs": [
        {
          "output_type": "stream",
          "name": "stdout",
          "text": [
            "['Babatunde', 'Fisayo', 'Halimo', 'Farax']\n"
          ]
        }
      ]
    },
    {
      "cell_type": "markdown",
      "source": [
        "Using pop when specifying a position removes that specified item. Remember python positioning begins at 0. I did this below but turns out using pop removes the specified position forever! I only have Halimo left!\n",
        "\n",
        "---\n",
        "\n",
        "\n",
        "\n",
        "---\n",
        "\n"
      ],
      "metadata": {
        "id": "qMhfZxnWeZ54"
      }
    },
    {
      "cell_type": "code",
      "source": [
        "print(mylist4) "
      ],
      "metadata": {
        "colab": {
          "base_uri": "https://localhost:8080/"
        },
        "id": "LF_fiIOHePef",
        "outputId": "ec04d369-30c9-4b55-9341-6ff96eba566d"
      },
      "execution_count": null,
      "outputs": [
        {
          "output_type": "stream",
          "name": "stdout",
          "text": [
            "['Halimo']\n"
          ]
        }
      ]
    },
    {
      "cell_type": "markdown",
      "source": [
        "Below is to sort names in alphabetical order, then reverse alphabetical order."
      ],
      "metadata": {
        "id": "0QaGQyRGhdh_"
      }
    },
    {
      "cell_type": "code",
      "source": [
        "mylist5=[\"Zara\", \"Alex\", \"Zara\", \"Michael\", \"Sean\", \"Adam\"]\n",
        "mylist5.sort(reverse=False)\n",
        "print(mylist5)"
      ],
      "metadata": {
        "colab": {
          "base_uri": "https://localhost:8080/"
        },
        "id": "ziFmO6qag7nE",
        "outputId": "bfc8e172-e4a2-4b6a-cbc7-816ac9496239"
      },
      "execution_count": null,
      "outputs": [
        {
          "output_type": "stream",
          "name": "stdout",
          "text": [
            "['Adam', 'Alex', 'Michael', 'Sean', 'Zara', 'Zara']\n"
          ]
        }
      ]
    },
    {
      "cell_type": "code",
      "source": [
        "mylist5=[\"Zara\", \"Alex\", \"Zara\", \"Michael\", \"Sean\", \"Adam\"]\n",
        "mylist5.sort(reverse=True)\n",
        "print(mylist5)"
      ],
      "metadata": {
        "colab": {
          "base_uri": "https://localhost:8080/"
        },
        "id": "NeF-wNpOhi2h",
        "outputId": "ff4d31df-45ce-47af-edd2-50a9936ac0a7"
      },
      "execution_count": null,
      "outputs": [
        {
          "output_type": "stream",
          "name": "stdout",
          "text": [
            "['Zara', 'Zara', 'Sean', 'Michael', 'Alex', 'Adam']\n"
          ]
        }
      ]
    },
    {
      "cell_type": "markdown",
      "source": [
        "Tried to remove the name Zara below by referring to its position. It hasn't worked."
      ],
      "metadata": {
        "id": "ULP2d5wyih8n"
      }
    },
    {
      "cell_type": "code",
      "source": [
        "mylist5=[\"Zara\", \"Alex\", \"Zara\", \"Michael\", \"Sean\", \"Adam\"]\n",
        "mylist5.remove[0]\n",
        "print(mylist5)"
      ],
      "metadata": {
        "colab": {
          "base_uri": "https://localhost:8080/",
          "height": 200
        },
        "id": "wqgV7OUQiJE0",
        "outputId": "893d4baa-53de-49c1-e3a0-bc0968adb506"
      },
      "execution_count": null,
      "outputs": [
        {
          "output_type": "error",
          "ename": "TypeError",
          "evalue": "ignored",
          "traceback": [
            "\u001b[0;31m---------------------------------------------------------------------------\u001b[0m",
            "\u001b[0;31mTypeError\u001b[0m                                 Traceback (most recent call last)",
            "\u001b[0;32m<ipython-input-65-155cafcfc8b8>\u001b[0m in \u001b[0;36m<module>\u001b[0;34m\u001b[0m\n\u001b[1;32m      1\u001b[0m \u001b[0mmylist5\u001b[0m\u001b[0;34m=\u001b[0m\u001b[0;34m[\u001b[0m\u001b[0;34m\"Zara\"\u001b[0m\u001b[0;34m,\u001b[0m \u001b[0;34m\"Alex\"\u001b[0m\u001b[0;34m,\u001b[0m \u001b[0;34m\"Zara\"\u001b[0m\u001b[0;34m,\u001b[0m \u001b[0;34m\"Michael\"\u001b[0m\u001b[0;34m,\u001b[0m \u001b[0;34m\"Sean\"\u001b[0m\u001b[0;34m,\u001b[0m \u001b[0;34m\"Adam\"\u001b[0m\u001b[0;34m]\u001b[0m\u001b[0;34m\u001b[0m\u001b[0;34m\u001b[0m\u001b[0m\n\u001b[0;32m----> 2\u001b[0;31m \u001b[0mmylist5\u001b[0m\u001b[0;34m.\u001b[0m\u001b[0mremove\u001b[0m\u001b[0;34m[\u001b[0m\u001b[0;36m0\u001b[0m\u001b[0;34m]\u001b[0m\u001b[0;34m\u001b[0m\u001b[0;34m\u001b[0m\u001b[0m\n\u001b[0m\u001b[1;32m      3\u001b[0m \u001b[0mprint\u001b[0m\u001b[0;34m(\u001b[0m\u001b[0mmylist5\u001b[0m\u001b[0;34m)\u001b[0m\u001b[0;34m\u001b[0m\u001b[0;34m\u001b[0m\u001b[0m\n",
            "\u001b[0;31mTypeError\u001b[0m: 'builtin_function_or_method' object is not subscriptable"
          ]
        }
      ]
    },
    {
      "cell_type": "markdown",
      "source": [
        "To remove an item, in this case Zara, below"
      ],
      "metadata": {
        "id": "fiUgguIIiEqP"
      }
    },
    {
      "cell_type": "code",
      "source": [
        "mylist5=[\"Zara\", \"Alex\", \"Zara\", \"Michael\", \"Sean\", \"Adam\"]\n",
        "for name in mylist5:\n",
        "  if name==\"Zara\":\n",
        "    mylist5.remove(\"Zara\")\n",
        "print(mylist5)"
      ],
      "metadata": {
        "colab": {
          "base_uri": "https://localhost:8080/"
        },
        "id": "ZHPZSKFDhowX",
        "outputId": "8829d48f-75f8-40ff-9fab-05ef96a889ef"
      },
      "execution_count": null,
      "outputs": [
        {
          "output_type": "stream",
          "name": "stdout",
          "text": [
            "['Alex', 'Michael', 'Sean', 'Adam']\n"
          ]
        }
      ]
    },
    {
      "cell_type": "markdown",
      "source": [
        "Another way of appending (adding) lists below"
      ],
      "metadata": {
        "id": "ZMhA894YjCDv"
      }
    },
    {
      "cell_type": "code",
      "source": [
        "mylist5=[\"Zara\", \"Alex\", \"Zara\", \"Michael\", \"Sean\", \"Adam\"]\n",
        "mylist6=[\"Noun\", \"Adjectives\", \"Adverbs\"]\n",
        "mylist7=mylist5+mylist6\n",
        "print(mylist7)"
      ],
      "metadata": {
        "colab": {
          "base_uri": "https://localhost:8080/"
        },
        "id": "IEyPcpXCiodv",
        "outputId": "c83271ab-e672-4588-cc5e-9f7c7347cb93"
      },
      "execution_count": null,
      "outputs": [
        {
          "output_type": "stream",
          "name": "stdout",
          "text": [
            "['Zara', 'Alex', 'Zara', 'Michael', 'Sean', 'Adam', 'Noun', 'Adjectives', 'Adverbs']\n"
          ]
        }
      ]
    },
    {
      "cell_type": "code",
      "source": [
        "mylist=[\"Michael\", \"Sean\", \"Adam\"]\n",
        "if \"Sean\" in mylist:\n",
        "  print(\"Yes the element is present\")"
      ],
      "metadata": {
        "id": "eTbvz5qvjnl_"
      },
      "execution_count": null,
      "outputs": []
    },
    {
      "cell_type": "markdown",
      "source": [
        "An exercise Mercy gave us. Make a list of tech companies. Check if an element is there. If it isn't there, make Python input it. This is someone else's example"
      ],
      "metadata": {
        "id": "PAtrb_xepNmi"
      }
    },
    {
      "cell_type": "code",
      "source": [
        "socialmedia=[\"Facebook\", \"Twitter\", \"Instagram\"]\n",
        "searchedfor=\"TikTok\"\n",
        "if searchedfor in socialmedia:\n",
        "  print (\"Yes the company you searched for {} is in your social media\".format(searchedfor))\n",
        "else: \n",
        "  print(\"the company you are looking for is adding {}\".format(searchedfor))\n",
        "socialmedia.append(\"TikTok\")\n",
        "print(socialmedia)"
      ],
      "metadata": {
        "colab": {
          "base_uri": "https://localhost:8080/"
        },
        "id": "K-7DIK8ajoUr",
        "outputId": "dc6e06e8-2c22-4fef-93fd-0a00fe2fb265"
      },
      "execution_count": null,
      "outputs": [
        {
          "output_type": "stream",
          "name": "stdout",
          "text": [
            "the company you are looking for is adding TikTok\n",
            "['Facebook', 'Twitter', 'Instagram', 'TikTok']\n"
          ]
        }
      ]
    },
    {
      "cell_type": "markdown",
      "source": [
        "This is Mercy's answer. She creates a separate variable called element so the whole code does not need to be changed if adding more to the list."
      ],
      "metadata": {
        "id": "EFrVtoBypahb"
      }
    },
    {
      "cell_type": "code",
      "source": [
        "mylist8=[\"Meta\",\"Google\",\"Tesla\",\"Snapchat\"]\n",
        "element=input(\"Please input tech co. name (Capitalised\")\n",
        "if element in mylist8:\n",
        "  print(\"Tech company already exists\")\n",
        "else:\n",
        "  mylist8.append(element)\n",
        "  print(\"The new list is:\", mylist8)"
      ],
      "metadata": {
        "colab": {
          "base_uri": "https://localhost:8080/"
        },
        "id": "zlXm3QRcpMlC",
        "outputId": "a4d42a9d-3608-41cd-9e6c-3e9e7ff07b7d"
      },
      "execution_count": null,
      "outputs": [
        {
          "output_type": "stream",
          "name": "stdout",
          "text": [
            "Please input tech co. name (CapitalisedTwitter\n",
            "The new list is: ['Meta', 'Google', 'Tesla', 'Snapchat', 'Twitter']\n"
          ]
        }
      ]
    },
    {
      "cell_type": "markdown",
      "source": [
        "List looping below"
      ],
      "metadata": {
        "id": "b15XZNtWshwb"
      }
    },
    {
      "cell_type": "code",
      "source": [
        "mylist8=[\"Meta\",\"Google\",\"Tesla\",\"Snapchat\"]\n",
        "for item in mylist8:\n",
        "  print(item)"
      ],
      "metadata": {
        "colab": {
          "base_uri": "https://localhost:8080/"
        },
        "id": "Vc_uelX2sm13",
        "outputId": "f9609bbb-f85e-4066-c187-b478de391b94"
      },
      "execution_count": null,
      "outputs": [
        {
          "output_type": "stream",
          "name": "stdout",
          "text": [
            "Meta\n",
            "Google\n",
            "Tesla\n",
            "Snapchat\n"
          ]
        }
      ]
    },
    {
      "cell_type": "markdown",
      "source": [
        "Element can also be used instead of item. The code below does the same as the code above"
      ],
      "metadata": {
        "id": "70xov0IwtTLp"
      }
    },
    {
      "cell_type": "code",
      "source": [
        "mylist8=[\"Meta\",\"Google\",\"Tesla\",\"Snapchat\"]\n",
        "for element in range(len(mylist8)):\n",
        "  print(element, mylist8[element])"
      ],
      "metadata": {
        "colab": {
          "base_uri": "https://localhost:8080/"
        },
        "id": "eoakUyK8tVxV",
        "outputId": "722ac027-77d1-4b81-8a85-1de851d93922"
      },
      "execution_count": null,
      "outputs": [
        {
          "output_type": "stream",
          "name": "stdout",
          "text": [
            "0 Meta\n",
            "1 Google\n",
            "2 Tesla\n",
            "3 Snapchat\n"
          ]
        }
      ]
    },
    {
      "cell_type": "markdown",
      "source": [
        "Squaring values by appending into an empty cell\n",
        "\n",
        "b=[2,4,6,8,10,12]\n",
        "\n"
      ],
      "metadata": {
        "id": "woiLv-ptuAO2"
      }
    },
    {
      "cell_type": "code",
      "source": [
        "a=[1,2,3,4,5,6]\n",
        "c=[]\n",
        "for x in a:\n",
        "  c.append(x*2)\n",
        "print(c)"
      ],
      "metadata": {
        "colab": {
          "base_uri": "https://localhost:8080/"
        },
        "id": "3sXQI38buCWV",
        "outputId": "9176239b-70cc-4526-a1ca-7a2cd81eecb8"
      },
      "execution_count": null,
      "outputs": [
        {
          "output_type": "stream",
          "name": "stdout",
          "text": [
            "[2, 4, 6, 8, 10, 12]\n"
          ]
        }
      ]
    },
    {
      "cell_type": "markdown",
      "source": [
        "Squaring values by list comprehension"
      ],
      "metadata": {
        "id": "LXJe6OyputYr"
      }
    },
    {
      "cell_type": "code",
      "source": [
        "a=[1,2,3,4,5,6]\n",
        "b=[x**2 for x in a]\n",
        "print(b)"
      ],
      "metadata": {
        "colab": {
          "base_uri": "https://localhost:8080/"
        },
        "id": "mzbNL7vJu2W8",
        "outputId": "3f418e5d-1267-4dc5-a4fa-93fcff762255"
      },
      "execution_count": null,
      "outputs": [
        {
          "output_type": "stream",
          "name": "stdout",
          "text": [
            "[1, 4, 9, 16, 25, 36]\n"
          ]
        }
      ]
    },
    {
      "cell_type": "markdown",
      "source": [
        "Exercise: write the word python. Output shoould be in the form of the list all in capitalised letters"
      ],
      "metadata": {
        "id": "2tmyKGizvlKW"
      }
    },
    {
      "cell_type": "code",
      "source": [
        "name=[letter.upper() for letter in \"python\"]\n",
        "print(name)\n"
      ],
      "metadata": {
        "colab": {
          "base_uri": "https://localhost:8080/"
        },
        "id": "oEwq3Cd4u-If",
        "outputId": "dbcbe54e-5453-49d3-c5ab-3c26fd359609"
      },
      "execution_count": null,
      "outputs": [
        {
          "output_type": "stream",
          "name": "stdout",
          "text": [
            "['P', 'Y', 'T', 'H', 'O', 'N']\n"
          ]
        }
      ]
    },
    {
      "cell_type": "markdown",
      "source": [
        "Adding to dictionaries"
      ],
      "metadata": {
        "id": "z1UP16_qw6ns"
      }
    },
    {
      "cell_type": "code",
      "source": [
        "mydict={\"employee\":\"Zara\",\"salary\":5000}\n",
        "mydict[\"department\"]=\"sales\"\n",
        "print(len(mydict))"
      ],
      "metadata": {
        "colab": {
          "base_uri": "https://localhost:8080/"
        },
        "id": "fa2JBBxIw9I0",
        "outputId": "b1eba994-7ead-4d3b-e1d6-65b9892adbea"
      },
      "execution_count": null,
      "outputs": [
        {
          "output_type": "stream",
          "name": "stdout",
          "text": [
            "3\n"
          ]
        }
      ]
    },
    {
      "cell_type": "code",
      "source": [
        "mydict={\"employee\":\"Zara\",\"salary\":5000,\"department\":\"sales\"}\n",
        "if \"department\" in mydict:\n",
        "  print(\"The key exists\")"
      ],
      "metadata": {
        "colab": {
          "base_uri": "https://localhost:8080/"
        },
        "id": "SwWZdDvoxx3R",
        "outputId": "f9c1b364-3071-47eb-b3bf-d181ee5e8f2e"
      },
      "execution_count": null,
      "outputs": [
        {
          "output_type": "stream",
          "name": "stdout",
          "text": [
            "The key exists\n"
          ]
        }
      ]
    },
    {
      "cell_type": "markdown",
      "source": [
        "Updating a dictionary below"
      ],
      "metadata": {
        "id": "oAv4Ibjzyfsn"
      }
    },
    {
      "cell_type": "code",
      "source": [
        "mydict={\"employee\":\"Zara\",\"salary\":5000,\"department\":\"sales\"}\n",
        "mydict.update({\"salary\":6000,\"level\":3})\n",
        "print(mydict)"
      ],
      "metadata": {
        "colab": {
          "base_uri": "https://localhost:8080/"
        },
        "id": "WKw0laY7yMfL",
        "outputId": "d3da0ba9-082f-4fac-8fd5-822b59caf315"
      },
      "execution_count": null,
      "outputs": [
        {
          "output_type": "stream",
          "name": "stdout",
          "text": [
            "{'employee': 'Zara', 'salary': 6000, 'department': 'sales', 'level': 3}\n"
          ]
        }
      ]
    },
    {
      "cell_type": "markdown",
      "source": [
        "Removing all items from dictionary using clear"
      ],
      "metadata": {
        "id": "41eO-B8cy148"
      }
    },
    {
      "cell_type": "code",
      "source": [
        "mydict={\"employee\":\"Zara\",\"salary\":5000,\"department\":\"sales\"}\n",
        "mydict.clear()\n",
        "print(mydict)"
      ],
      "metadata": {
        "colab": {
          "base_uri": "https://localhost:8080/"
        },
        "id": "IXXGUYnWyuep",
        "outputId": "c900f44e-28f5-460d-d707-51bd311ff9d7"
      },
      "execution_count": null,
      "outputs": [
        {
          "output_type": "stream",
          "name": "stdout",
          "text": [
            "{}\n"
          ]
        }
      ]
    },
    {
      "cell_type": "markdown",
      "source": [
        "Removing an items from dictionary using delete"
      ],
      "metadata": {
        "id": "zvKiuK-m0Y7g"
      }
    },
    {
      "cell_type": "code",
      "source": [
        "mydict={\"employee\":\"Zara\",\"salary\":5000,\"department\":\"sales\"}\n",
        "del mydict[\"salary\"]\n",
        "print(mydict)"
      ],
      "metadata": {
        "colab": {
          "base_uri": "https://localhost:8080/"
        },
        "id": "t5rPqLR40KVC",
        "outputId": "ee1de20d-b5ad-4c19-d0ad-0094465b0a0f"
      },
      "execution_count": null,
      "outputs": [
        {
          "output_type": "stream",
          "name": "stdout",
          "text": [
            "{'employee': 'Zara', 'department': 'sales'}\n"
          ]
        }
      ]
    },
    {
      "cell_type": "markdown",
      "source": [
        "Tuples"
      ],
      "metadata": {
        "id": "J0ntUCWh0Dr8"
      }
    },
    {
      "cell_type": "code",
      "source": [
        "mytuples=(\"Audi\", \"Ford\", \"Tesla\")\n",
        "print(mytuples[2])"
      ],
      "metadata": {
        "colab": {
          "base_uri": "https://localhost:8080/"
        },
        "id": "3jqRCizI0oRm",
        "outputId": "35c2ec87-5535-4f2d-984b-49e64f7ec025"
      },
      "execution_count": null,
      "outputs": [
        {
          "output_type": "stream",
          "name": "stdout",
          "text": [
            "Tesla\n"
          ]
        }
      ]
    },
    {
      "cell_type": "markdown",
      "source": [
        "Tuples cannot be changed. They have to be converted to a list then make the change there"
      ],
      "metadata": {
        "id": "XjHXe78O1Yb0"
      }
    },
    {
      "cell_type": "code",
      "source": [
        "mytuples=(\"Audi\", \"Ford\", \"Tesla\")\n",
        "mylist9=list(mytuples)\n",
        "mylist9[1]=\"BMW\"\n",
        "mytuples=tuple(mylist9)\n",
        "print(mytuples)"
      ],
      "metadata": {
        "colab": {
          "base_uri": "https://localhost:8080/"
        },
        "id": "ua5x0fnU1d73",
        "outputId": "663ad08c-6cbc-460d-fab2-21e1d1aa1f1a"
      },
      "execution_count": null,
      "outputs": [
        {
          "output_type": "stream",
          "name": "stdout",
          "text": [
            "('Audi', 'BMW', 'Tesla')\n"
          ]
        }
      ]
    },
    {
      "cell_type": "markdown",
      "source": [
        "Sets. As sets are unordered, they cannot be accessed or manipulated using indexes."
      ],
      "metadata": {
        "id": "0AlG2qf-2EO9"
      }
    },
    {
      "cell_type": "code",
      "source": [
        "myset=[\"Apple\",\"Banana\"]\n",
        "print(len(myset))"
      ],
      "metadata": {
        "colab": {
          "base_uri": "https://localhost:8080/"
        },
        "id": "q_ajp24W2Ffi",
        "outputId": "9b012071-5a4e-4986-cf6f-a85ae93919bb"
      },
      "execution_count": null,
      "outputs": [
        {
          "output_type": "stream",
          "name": "stdout",
          "text": [
            "2\n"
          ]
        }
      ]
    }
  ]
}